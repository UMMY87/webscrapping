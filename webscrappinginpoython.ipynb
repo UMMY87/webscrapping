{
 "cells": [
  {
   "cell_type": "code",
   "execution_count": 1,
   "metadata": {},
   "outputs": [
    {
     "name": "stdout",
     "output_type": "stream",
     "text": [
      "Defaulting to user installation because normal site-packages is not writeable\n",
      "Requirement already satisfied: requests in c:\\users\\umama\\appdata\\roaming\\python\\python312\\site-packages (2.31.0)\n",
      "Requirement already satisfied: beautifulsoup4 in c:\\users\\umama\\appdata\\roaming\\python\\python312\\site-packages (4.12.3)\n",
      "Requirement already satisfied: charset-normalizer<4,>=2 in c:\\users\\umama\\appdata\\roaming\\python\\python312\\site-packages (from requests) (3.3.2)\n",
      "Requirement already satisfied: idna<4,>=2.5 in c:\\users\\umama\\appdata\\roaming\\python\\python312\\site-packages (from requests) (3.6)\n",
      "Requirement already satisfied: urllib3<3,>=1.21.1 in c:\\users\\umama\\appdata\\roaming\\python\\python312\\site-packages (from requests) (2.2.1)\n",
      "Requirement already satisfied: certifi>=2017.4.17 in c:\\users\\umama\\appdata\\roaming\\python\\python312\\site-packages (from requests) (2024.2.2)\n",
      "Requirement already satisfied: soupsieve>1.2 in c:\\users\\umama\\appdata\\roaming\\python\\python312\\site-packages (from beautifulsoup4) (2.5)\n",
      "Note: you may need to restart the kernel to use updated packages.\n"
     ]
    }
   ],
   "source": [
    "pip install requests beautifulsoup4"
   ]
  },
  {
   "cell_type": "code",
   "execution_count": 2,
   "metadata": {},
   "outputs": [
    {
     "name": "stdout",
     "output_type": "stream",
     "text": [
      "Title: No reserved seats for Sunni Ittehad Council as Peshawar High Court rejects plea against ECP’s decision\n",
      "URL: https://www.dawn.com/news/1821427/no-reserved-seats-for-sunni-ittehad-council-as-peshawar-high-court-rejects-plea-against-ecps-decision\n",
      "\n",
      "Title: Economic agenda\n",
      "URL: https://www.dawn.com/news/1821372/economic-agenda\n",
      "\n",
      "Title: Six Senate seats up for grabs today\n",
      "URL: https://www.dawn.com/news/1821369/six-senate-seats-up-for-grabs-today\n",
      "\n",
      "Title: Govt slams PTI for dragging EU, IMF into domestic squabbles\n",
      "URL: https://www.dawn.com/news/1821368/govt-slams-pti-for-dragging-eu-imf-into-domestic-squabbles\n",
      "\n",
      "Title: PTI founder, Qureshi’s appeals are maintainable, IHC holds\n",
      "URL: https://www.dawn.com/news/1821366/pti-founder-qureshis-appeals-are-maintainable-ihc-holds\n",
      "\n",
      "Title: COMMENT: Short-term sacrifices, long-term gains\n",
      "URL: https://www.dawn.com/news/1821360/comment-short-term-sacrifices-long-term-gains\n",
      "\n",
      "Title: Ice breaks as CM Gandapur takes up KP issues with PM\n",
      "URL: https://www.dawn.com/news/1821357/ice-breaks-as-cm-gandapur-takes-up-kp-issues-with-pm\n",
      "\n",
      "Title: PML-N women reserved seats: YouTuber’s nomination withdrawn after backlash\n",
      "URL: https://www.dawn.com/news/1821335/pml-n-women-reserved-seats-youtubers-nomination-withdrawn-after-backlash\n",
      "\n",
      "Title: PTI’s Haleem Adil moves election tribunal against Muttahida candidate’s victory\n",
      "URL: https://www.dawn.com/news/1821266/ptis-haleem-adil-moves-election-tribunal-against-muttahida-candidates-victory\n",
      "\n",
      "Title: ‘N’ draws ire of PPP, opposition over Irsa move\n",
      "URL: https://www.dawn.com/news/1821296/n-draws-ire-of-ppp-opposition-over-irsa-move\n",
      "\n",
      "Title: Attorney general opposes SIC plea for reserved seats\n",
      "URL: https://www.dawn.com/news/1821291/attorney-general-opposes-sic-plea-for-reserved-seats\n",
      "\n",
      "Title: Only a party that wins in general election deserving of reserved seats, AGP Awan tells PHC\n",
      "URL: https://www.dawn.com/news/1821225/only-a-party-that-wins-in-general-election-deserving-of-reserved-seats-agp-awan-tells-phc\n",
      "\n",
      "Title: Editorial: It is encouraging to see the PTI maturing politically, but it must do more\n",
      "URL: https://www.dawn.com/news/1821172/editorial-it-is-encouraging-to-see-the-pti-maturing-politically-but-it-must-do-more\n",
      "\n",
      "Title: Ejaz raps govt for not letting him vote in presidential poll\n",
      "URL: https://www.dawn.com/news/1821048/ejaz-raps-govt-for-not-letting-him-vote-in-presidential-poll\n",
      "\n",
      "Title: Only one woman included in Sindh’s 13-member cabinet\n",
      "URL: https://www.dawn.com/news/1821119/only-one-woman-included-in-sindhs-13-member-cabinet\n",
      "\n",
      "Title: JUI-F, PPP agree on reciprocal support in Senate\n",
      "URL: https://www.dawn.com/news/1821131/jui-f-ppp-agree-on-reciprocal-support-in-senate\n",
      "\n",
      "Title: ECP issues notice to Gandapur on plea seeking his disqualification\n",
      "URL: https://www.dawn.com/news/1821130/ecp-issues-notice-to-gandapur-on-plea-seeking-his-disqualification\n",
      "\n",
      "Title: Of old and new faces\n",
      "URL: https://www.dawn.com/news/1821157/of-old-and-new-faces\n",
      "\n",
      "Title: Political faults\n",
      "URL: https://www.dawn.com/news/1821161/political-faults\n",
      "\n",
      "Title: Caretaker by any other name\n",
      "URL: https://www.dawn.com/news/1820941/caretaker-by-any-other-name\n",
      "\n",
      "Title: PDM redux\n",
      "URL: https://www.dawn.com/news/1820937/pdm-redux\n",
      "\n",
      "Title: New blood joins old guard in federal cabinet\n",
      "URL: https://www.dawn.com/news/1820930/new-blood-joins-old-guard-in-federal-cabinet\n",
      "\n",
      "Title: Won’t tolerate intimidation of press, says CJP\n",
      "URL: https://www.dawn.com/news/1820929/wont-tolerate-intimidation-of-press-says-cjp\n",
      "\n",
      "Title: Senate becomes dysfunctional as over half its members retire\n",
      "URL: https://www.dawn.com/news/1820927/senate-becomes-dysfunctional-as-over-half-its-members-retire\n",
      "\n",
      "Title: Arrest warrants for Faisalabad MNA Afzal Sahi\n",
      "URL: https://www.dawn.com/news/1820824/arrest-warrants-for-faisalabad-mna-afzal-sahi\n",
      "\n",
      "Title: PTI plans shadow cabinet to monitor Punjab govt\n",
      "URL: https://www.dawn.com/news/1820894/pti-plans-shadow-cabinet-to-monitor-punjab-govt\n",
      "\n",
      "Title: PTI claims gross violation of human rights in Pakistan\n",
      "URL: https://www.dawn.com/news/1820899/pti-claims-gross-violation-of-human-rights-in-pakistan\n",
      "\n",
      "Title: JUI-F disowns MNA notified by ECP against reserved seat\n",
      "URL: https://www.dawn.com/news/1820896/jui-f-disowns-mna-notified-by-ecp-against-reserved-seat\n",
      "\n",
      "Title: Ishaq Dar becomes FM as PM Shehbaz’s 19-member cabinet sworn in\n",
      "URL: https://www.dawn.com/news/1820748/ishaq-dar-becomes-fm-as-pm-shehbazs-19-member-cabinet-sworn-in\n",
      "\n",
      "Title: Divide and rule\n",
      "URL: https://www.dawn.com/news/1820657/divide-and-rule\n",
      "\n"
     ]
    }
   ],
   "source": [
    "import requests\n",
    "from bs4 import BeautifulSoup\n",
    "\n",
    "def get_articles(url):\n",
    "    # Send an HTTP GET request to the URL\n",
    "    response = requests.get(url)\n",
    "    \n",
    "    # Check if the request was successful (status code 200)\n",
    "    if response.status_code == 200:\n",
    "        # Parse the HTML content of the page\n",
    "        soup = BeautifulSoup(response.content, 'html.parser')\n",
    "        \n",
    "        # Find all article elements\n",
    "        articles = soup.find_all('article')\n",
    "        \n",
    "        # Extract title and URL for each article\n",
    "        for article in articles:\n",
    "            # Extract title\n",
    "            title = article.find('h2', class_='story__title').text.strip()\n",
    "            \n",
    "            # Extract URL\n",
    "            url = article.find('a')['href']\n",
    "            \n",
    "            print(\"Title:\", title)\n",
    "            print(\"URL:\", url)\n",
    "            print()\n",
    "\n",
    "    else:\n",
    "        print(\"Failed to retrieve data from the website.\")\n",
    "\n",
    "if __name__ == \"__main__\":\n",
    "    url = \"https://www.dawn.com/trends/elections-2024\"\n",
    "    get_articles(url)\n"
   ]
  },
  {
   "cell_type": "code",
   "execution_count": 3,
   "metadata": {},
   "outputs": [
    {
     "name": "stdout",
     "output_type": "stream",
     "text": [
      "Defaulting to user installation because normal site-packages is not writeable\n",
      "Requirement already satisfied: tabulate in c:\\users\\umama\\appdata\\roaming\\python\\python312\\site-packages (0.9.0)\n",
      "Note: you may need to restart the kernel to use updated packages.\n"
     ]
    }
   ],
   "source": [
    "pip install tabulate"
   ]
  },
  {
   "cell_type": "code",
   "execution_count": 4,
   "metadata": {},
   "outputs": [
    {
     "name": "stdout",
     "output_type": "stream",
     "text": [
      "+--------------------------------------------------------------------------------------------------------+-----------------------------------------------------------------------------------------------------------------------------------------+\n",
      "| Title                                                                                                  | URL                                                                                                                                     |\n",
      "+========================================================================================================+=========================================================================================================================================+\n",
      "| No reserved seats for Sunni Ittehad Council as Peshawar High Court rejects plea against ECP’s decision | https://www.dawn.com/news/1821427/no-reserved-seats-for-sunni-ittehad-council-as-peshawar-high-court-rejects-plea-against-ecps-decision |\n",
      "+--------------------------------------------------------------------------------------------------------+-----------------------------------------------------------------------------------------------------------------------------------------+\n",
      "| Economic agenda                                                                                        | https://www.dawn.com/news/1821372/economic-agenda                                                                                       |\n",
      "+--------------------------------------------------------------------------------------------------------+-----------------------------------------------------------------------------------------------------------------------------------------+\n",
      "| Six Senate seats up for grabs today                                                                    | https://www.dawn.com/news/1821369/six-senate-seats-up-for-grabs-today                                                                   |\n",
      "+--------------------------------------------------------------------------------------------------------+-----------------------------------------------------------------------------------------------------------------------------------------+\n",
      "| Govt slams PTI for dragging EU, IMF into domestic squabbles                                            | https://www.dawn.com/news/1821368/govt-slams-pti-for-dragging-eu-imf-into-domestic-squabbles                                            |\n",
      "+--------------------------------------------------------------------------------------------------------+-----------------------------------------------------------------------------------------------------------------------------------------+\n",
      "| PTI founder, Qureshi’s appeals are maintainable, IHC holds                                             | https://www.dawn.com/news/1821366/pti-founder-qureshis-appeals-are-maintainable-ihc-holds                                               |\n",
      "+--------------------------------------------------------------------------------------------------------+-----------------------------------------------------------------------------------------------------------------------------------------+\n",
      "| COMMENT: Short-term sacrifices, long-term gains                                                        | https://www.dawn.com/news/1821360/comment-short-term-sacrifices-long-term-gains                                                         |\n",
      "+--------------------------------------------------------------------------------------------------------+-----------------------------------------------------------------------------------------------------------------------------------------+\n",
      "| Ice breaks as CM Gandapur takes up KP issues with PM                                                   | https://www.dawn.com/news/1821357/ice-breaks-as-cm-gandapur-takes-up-kp-issues-with-pm                                                  |\n",
      "+--------------------------------------------------------------------------------------------------------+-----------------------------------------------------------------------------------------------------------------------------------------+\n",
      "| PML-N women reserved seats: YouTuber’s nomination withdrawn after backlash                             | https://www.dawn.com/news/1821335/pml-n-women-reserved-seats-youtubers-nomination-withdrawn-after-backlash                              |\n",
      "+--------------------------------------------------------------------------------------------------------+-----------------------------------------------------------------------------------------------------------------------------------------+\n",
      "| PTI’s Haleem Adil moves election tribunal against Muttahida candidate’s victory                        | https://www.dawn.com/news/1821266/ptis-haleem-adil-moves-election-tribunal-against-muttahida-candidates-victory                         |\n",
      "+--------------------------------------------------------------------------------------------------------+-----------------------------------------------------------------------------------------------------------------------------------------+\n",
      "| ‘N’ draws ire of PPP, opposition over Irsa move                                                        | https://www.dawn.com/news/1821296/n-draws-ire-of-ppp-opposition-over-irsa-move                                                          |\n",
      "+--------------------------------------------------------------------------------------------------------+-----------------------------------------------------------------------------------------------------------------------------------------+\n",
      "| Attorney general opposes SIC plea for reserved seats                                                   | https://www.dawn.com/news/1821291/attorney-general-opposes-sic-plea-for-reserved-seats                                                  |\n",
      "+--------------------------------------------------------------------------------------------------------+-----------------------------------------------------------------------------------------------------------------------------------------+\n",
      "| Only a party that wins in general election deserving of reserved seats, AGP Awan tells PHC             | https://www.dawn.com/news/1821225/only-a-party-that-wins-in-general-election-deserving-of-reserved-seats-agp-awan-tells-phc             |\n",
      "+--------------------------------------------------------------------------------------------------------+-----------------------------------------------------------------------------------------------------------------------------------------+\n",
      "| Editorial: It is encouraging to see the PTI maturing politically, but it must do more                  | https://www.dawn.com/news/1821172/editorial-it-is-encouraging-to-see-the-pti-maturing-politically-but-it-must-do-more                   |\n",
      "+--------------------------------------------------------------------------------------------------------+-----------------------------------------------------------------------------------------------------------------------------------------+\n",
      "| Ejaz raps govt for not letting him vote in presidential poll                                           | https://www.dawn.com/news/1821048/ejaz-raps-govt-for-not-letting-him-vote-in-presidential-poll                                          |\n",
      "+--------------------------------------------------------------------------------------------------------+-----------------------------------------------------------------------------------------------------------------------------------------+\n",
      "| Only one woman included in Sindh’s 13-member cabinet                                                   | https://www.dawn.com/news/1821119/only-one-woman-included-in-sindhs-13-member-cabinet                                                   |\n",
      "+--------------------------------------------------------------------------------------------------------+-----------------------------------------------------------------------------------------------------------------------------------------+\n",
      "| JUI-F, PPP agree on reciprocal support in Senate                                                       | https://www.dawn.com/news/1821131/jui-f-ppp-agree-on-reciprocal-support-in-senate                                                       |\n",
      "+--------------------------------------------------------------------------------------------------------+-----------------------------------------------------------------------------------------------------------------------------------------+\n",
      "| ECP issues notice to Gandapur on plea seeking his disqualification                                     | https://www.dawn.com/news/1821130/ecp-issues-notice-to-gandapur-on-plea-seeking-his-disqualification                                    |\n",
      "+--------------------------------------------------------------------------------------------------------+-----------------------------------------------------------------------------------------------------------------------------------------+\n",
      "| Of old and new faces                                                                                   | https://www.dawn.com/news/1821157/of-old-and-new-faces                                                                                  |\n",
      "+--------------------------------------------------------------------------------------------------------+-----------------------------------------------------------------------------------------------------------------------------------------+\n",
      "| Political faults                                                                                       | https://www.dawn.com/news/1821161/political-faults                                                                                      |\n",
      "+--------------------------------------------------------------------------------------------------------+-----------------------------------------------------------------------------------------------------------------------------------------+\n",
      "| Caretaker by any other name                                                                            | https://www.dawn.com/news/1820941/caretaker-by-any-other-name                                                                           |\n",
      "+--------------------------------------------------------------------------------------------------------+-----------------------------------------------------------------------------------------------------------------------------------------+\n",
      "| PDM redux                                                                                              | https://www.dawn.com/news/1820937/pdm-redux                                                                                             |\n",
      "+--------------------------------------------------------------------------------------------------------+-----------------------------------------------------------------------------------------------------------------------------------------+\n",
      "| New blood joins old guard in federal cabinet                                                           | https://www.dawn.com/news/1820930/new-blood-joins-old-guard-in-federal-cabinet                                                          |\n",
      "+--------------------------------------------------------------------------------------------------------+-----------------------------------------------------------------------------------------------------------------------------------------+\n",
      "| Won’t tolerate intimidation of press, says CJP                                                         | https://www.dawn.com/news/1820929/wont-tolerate-intimidation-of-press-says-cjp                                                          |\n",
      "+--------------------------------------------------------------------------------------------------------+-----------------------------------------------------------------------------------------------------------------------------------------+\n",
      "| Senate becomes dysfunctional as over half its members retire                                           | https://www.dawn.com/news/1820927/senate-becomes-dysfunctional-as-over-half-its-members-retire                                          |\n",
      "+--------------------------------------------------------------------------------------------------------+-----------------------------------------------------------------------------------------------------------------------------------------+\n",
      "| Arrest warrants for Faisalabad MNA Afzal Sahi                                                          | https://www.dawn.com/news/1820824/arrest-warrants-for-faisalabad-mna-afzal-sahi                                                         |\n",
      "+--------------------------------------------------------------------------------------------------------+-----------------------------------------------------------------------------------------------------------------------------------------+\n",
      "| PTI plans shadow cabinet to monitor Punjab govt                                                        | https://www.dawn.com/news/1820894/pti-plans-shadow-cabinet-to-monitor-punjab-govt                                                       |\n",
      "+--------------------------------------------------------------------------------------------------------+-----------------------------------------------------------------------------------------------------------------------------------------+\n",
      "| PTI claims gross violation of human rights in Pakistan                                                 | https://www.dawn.com/news/1820899/pti-claims-gross-violation-of-human-rights-in-pakistan                                                |\n",
      "+--------------------------------------------------------------------------------------------------------+-----------------------------------------------------------------------------------------------------------------------------------------+\n",
      "| JUI-F disowns MNA notified by ECP against reserved seat                                                | https://www.dawn.com/news/1820896/jui-f-disowns-mna-notified-by-ecp-against-reserved-seat                                               |\n",
      "+--------------------------------------------------------------------------------------------------------+-----------------------------------------------------------------------------------------------------------------------------------------+\n",
      "| Ishaq Dar becomes FM as PM Shehbaz’s 19-member cabinet sworn in                                        | https://www.dawn.com/news/1820748/ishaq-dar-becomes-fm-as-pm-shehbazs-19-member-cabinet-sworn-in                                        |\n",
      "+--------------------------------------------------------------------------------------------------------+-----------------------------------------------------------------------------------------------------------------------------------------+\n",
      "| Divide and rule                                                                                        | https://www.dawn.com/news/1820657/divide-and-rule                                                                                       |\n",
      "+--------------------------------------------------------------------------------------------------------+-----------------------------------------------------------------------------------------------------------------------------------------+\n"
     ]
    }
   ],
   "source": [
    "import requests\n",
    "from bs4 import BeautifulSoup\n",
    "from tabulate import tabulate\n",
    "\n",
    "def get_articles(url):\n",
    "    # Send an HTTP GET request to the URL\n",
    "    response = requests.get(url)\n",
    "    \n",
    "    # Check if the request was successful (status code 200)\n",
    "    if response.status_code == 200:\n",
    "        # Parse the HTML content of the page\n",
    "        soup = BeautifulSoup(response.content, 'html.parser')\n",
    "        \n",
    "        # Find all article elements\n",
    "        articles = soup.find_all('article')\n",
    "        \n",
    "        # Initialize a list to store data for each article\n",
    "        article_data = []\n",
    "        \n",
    "        # Extract title and URL for each article\n",
    "        for article in articles:\n",
    "            # Extract title\n",
    "            title = article.find('h2', class_='story__title').text.strip()\n",
    "            \n",
    "            # Extract URL\n",
    "            url = article.find('a')['href']\n",
    "            \n",
    "            # Append title and URL to the article data list\n",
    "            article_data.append([title, url])\n",
    "        \n",
    "        # Output data in table format using tabulate\n",
    "        print(tabulate(article_data, headers=[\"Title\", \"URL\"], tablefmt=\"grid\"))\n",
    "        \n",
    "    else:\n",
    "        print(\"Failed to retrieve data from the website.\")\n",
    "\n",
    "if __name__ == \"__main__\":\n",
    "    url = \"https://www.dawn.com/trends/elections-2024\"\n",
    "    get_articles(url)\n"
   ]
  },
  {
   "cell_type": "code",
   "execution_count": 5,
   "metadata": {},
   "outputs": [
    {
     "name": "stdout",
     "output_type": "stream",
     "text": [
      "Defaulting to user installation because normal site-packages is not writeable\n",
      "Requirement already satisfied: pandas in c:\\users\\umama\\appdata\\roaming\\python\\python312\\site-packages (2.2.1)\n",
      "Requirement already satisfied: numpy<2,>=1.26.0 in c:\\users\\umama\\appdata\\roaming\\python\\python312\\site-packages (from pandas) (1.26.4)\n",
      "Requirement already satisfied: python-dateutil>=2.8.2 in c:\\users\\umama\\appdata\\roaming\\python\\python312\\site-packages (from pandas) (2.8.2)\n",
      "Requirement already satisfied: pytz>=2020.1 in c:\\users\\umama\\appdata\\roaming\\python\\python312\\site-packages (from pandas) (2024.1)\n",
      "Requirement already satisfied: tzdata>=2022.7 in c:\\users\\umama\\appdata\\roaming\\python\\python312\\site-packages (from pandas) (2024.1)\n",
      "Requirement already satisfied: six>=1.5 in c:\\users\\umama\\appdata\\roaming\\python\\python312\\site-packages (from python-dateutil>=2.8.2->pandas) (1.16.0)\n",
      "Note: you may need to restart the kernel to use updated packages.\n"
     ]
    }
   ],
   "source": [
    "pip install pandas"
   ]
  },
  {
   "cell_type": "code",
   "execution_count": 6,
   "metadata": {},
   "outputs": [
    {
     "name": "stdout",
     "output_type": "stream",
     "text": [
      "Defaulting to user installation because normal site-packages is not writeableNote: you may need to restart the kernel to use updated packages.\n",
      "\n",
      "Requirement already satisfied: scikit-learn in c:\\users\\umama\\appdata\\roaming\\python\\python312\\site-packages (1.4.1.post1)\n",
      "Requirement already satisfied: numpy<2.0,>=1.19.5 in c:\\users\\umama\\appdata\\roaming\\python\\python312\\site-packages (from scikit-learn) (1.26.4)\n",
      "Requirement already satisfied: scipy>=1.6.0 in c:\\users\\umama\\appdata\\roaming\\python\\python312\\site-packages (from scikit-learn) (1.12.0)\n",
      "Requirement already satisfied: joblib>=1.2.0 in c:\\users\\umama\\appdata\\roaming\\python\\python312\\site-packages (from scikit-learn) (1.3.2)\n",
      "Requirement already satisfied: threadpoolctl>=2.0.0 in c:\\users\\umama\\appdata\\roaming\\python\\python312\\site-packages (from scikit-learn) (3.3.0)\n"
     ]
    }
   ],
   "source": [
    "pip install scikit-learn"
   ]
  },
  {
   "cell_type": "code",
   "execution_count": 7,
   "metadata": {},
   "outputs": [
    {
     "name": "stdout",
     "output_type": "stream",
     "text": [
      "Mean Squared Error: 27777.77777777788\n"
     ]
    }
   ],
   "source": [
    "import pandas as pd\n",
    "\n",
    "# Assuming you have additional numerical data\n",
    "# Create a DataFrame with article data and other features\n",
    "data = {\n",
    "    'Title': ['Article 1', 'Article 2', 'Article 3'],\n",
    "    'URL': ['url1', 'url2', 'url3'],\n",
    "    'Word_Count': [1000, 1500, 1200],  # Example numerical feature\n",
    "    'Publication_Date': ['2024-03-14', '2024-03-13', '2024-03-12']  # Example date feature\n",
    "}\n",
    "\n",
    "df = pd.DataFrame(data)\n",
    "\n",
    "# Now you can use df for regression analysis, e.g., with scikit-learn\n",
    "from sklearn.model_selection import train_test_split\n",
    "from sklearn.linear_model import LinearRegression\n",
    "from sklearn.metrics import mean_squared_error\n",
    "\n",
    "# Assuming you have a target variable (e.g., number of views)\n",
    "X = df[['Word_Count']]  # Features\n",
    "y = [5000, 6000, 5500]  # Example target variable\n",
    "\n",
    "# Split data into training and testing sets\n",
    "X_train, X_test, y_train, y_test = train_test_split(X, y, test_size=0.2, random_state=42)\n",
    "\n",
    "# Train a linear regression model\n",
    "model = LinearRegression()\n",
    "model.fit(X_train, y_train)\n",
    "\n",
    "# Make predictions on the testing set\n",
    "y_pred = model.predict(X_test)\n",
    "\n",
    "# Evaluate model performance\n",
    "mse = mean_squared_error(y_test, y_pred)\n",
    "print(\"Mean Squared Error:\", mse)"
   ]
  },
  {
   "cell_type": "code",
   "execution_count": 8,
   "metadata": {},
   "outputs": [
    {
     "name": "stdout",
     "output_type": "stream",
     "text": [
      "Intercept: 3500.0\n",
      "Coefficient: [1.66666667]\n"
     ]
    }
   ],
   "source": [
    "intercept = model.intercept_\n",
    "coefficients = model.coef_\n",
    "\n",
    "print(\"Intercept:\", intercept)\n",
    "print(\"Coefficient:\", coefficients)"
   ]
  },
  {
   "cell_type": "code",
   "execution_count": null,
   "metadata": {},
   "outputs": [],
   "source": []
  }
 ],
 "metadata": {
  "kernelspec": {
   "display_name": "Python 3",
   "language": "python",
   "name": "python3"
  },
  "language_info": {
   "codemirror_mode": {
    "name": "ipython",
    "version": 3
   },
   "file_extension": ".py",
   "mimetype": "text/x-python",
   "name": "python",
   "nbconvert_exporter": "python",
   "pygments_lexer": "ipython3",
   "version": "3.12.2"
  }
 },
 "nbformat": 4,
 "nbformat_minor": 2
}
